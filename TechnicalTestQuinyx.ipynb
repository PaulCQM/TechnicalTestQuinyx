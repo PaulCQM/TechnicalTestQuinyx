{
 "cells": [
  {
   "cell_type": "markdown",
   "metadata": {},
   "source": [
    "# Plan van Aanpak:\n",
    "Eerst data met de hand bekijken. \n",
    "    Kijken welke variabelen relevant lijken en ook het meest werkbaar\n",
    "    Kijken of er meteen patronen uitspringen\n",
    "Dan analyseren met code of er patronen zijn en of er manieren zijn om de data te voorspellen.\n",
    "\n",
    "Als laatste ook de variabelen gebruiken die niet relevant leken. "
   ]
  },
  {
   "cell_type": "markdown",
   "metadata": {},
   "source": [
    "# Bevindingen:\n",
    "Heel veel 0en, ook hele rijen, in de data -> direct deep learning model toepassen is onmogelijk. De dataset is te ongebalanceerd. Andere voorspellingsmethodes zullen ook falen gok ik. \n",
    "Eerst zo veel mogelijk 0en proberen te voorspellen via andere weg. Daarna deep learning model trainen of andere voorspel techniek trainen.\n",
    "\n",
    "### Patronen:\n",
    "- Vesseltype 1 en 4 zijn altijd helemaal leeg. Vesseltype 1 komt wel maar 2 keer voor, dus waarschijnlijk is dit insignificant.\n",
    "- Vesseltype 5 bevat alleen cargo type 3 en 4. \n",
    "- Vesseltype 3 is heel veel leeg en ook het meest aanwezig. \n",
    "- Vesseldwt is belangrijk, want geeft maximale capaciteit aan. Dus je moet niet hierover voorspellen. Ook lijkt het dat de meeste schepen niet volledig maar wel voor een groot deel gevuld zijn. Met code de verdeling hiervan checken is nodig. \n",
    "- stevedorenames lijkt een goeie indicator. Sommige stevedores hebben alleen lege schepen en sommigen alleen specifieke types cargo.\n",
    "- Vesselid lijkt een goeie indicator bij vesseltype 3. Er is een hele range van ids waarbij alle ids die daarin voorkomen en vesseltype 3 hebben leeg zijn: [2073,5841]. Noot hierbij is dat bij de uiteindes dit waarschijnlijk niet volledig klopt of gebruikt kan worden, want het aantal vessels wat uberhaupt iets discharged of load is klein. \n",
    "- portid's lijken interessant, maar geen directe link uit kunnen halen. Meer onderzoek zou dit moeten uitwijzen. \n",
    "- hasnohamid en isremarkable zijn precies hetzelfde voor alle entries, dus nutteloos voor voorspellingen. \n",
    "- traveltype en de dagen lijken geen indicatie te geven op het eerste oog, maar waarschijnlijk kan daar wel de voorspellingen wat mee verbeterd worden op het einde. Waarschijnlijk geldt er zoiets als niet te veel cargo op 1 dezelfde dag, dat boten met bepaalde planningen bepaalde cargo vervoeren of dat traveltype nog een interessant inzicht kan geven. "
   ]
  },
  {
   "cell_type": "code",
   "execution_count": 1,
   "metadata": {},
   "outputs": [],
   "source": [
    "import pandas\n",
    "import numpy"
   ]
  },
  {
   "cell_type": "code",
   "execution_count": 23,
   "metadata": {},
   "outputs": [],
   "source": [
    "data = pandas.read_csv('VesselData.csv')\n"
   ]
  },
  {
   "cell_type": "code",
   "execution_count": null,
   "metadata": {},
   "outputs": [],
   "source": [
    "if data['vesseltype']== 4 all load 0\n",
    "vesseltype == 1 || 4 all load 0\n",
    "\n",
    "vesseltype == 5 only 3 and 4 \n",
    "\n",
    "vesseltype == 3 if vesselid between 2073 and 5841 all load 0\n"
   ]
  },
  {
   "cell_type": "code",
   "execution_count": 24,
   "metadata": {},
   "outputs": [
    {
     "name": "stdout",
     "output_type": "stream",
     "text": [
      "Stevedore_109,Stevedore_57,Stevedore_64\n",
      "{0: 'Stevedore_109', 1: 'Stevedore_57', 2: 'Stevedore_64'}\n"
     ]
    },
    {
     "name": "stderr",
     "output_type": "stream",
     "text": [
      "C:\\Users\\s110391\\AppData\\Local\\Continuum\\anaconda3\\lib\\site-packages\\ipykernel_launcher.py:2: SettingWithCopyWarning: \n",
      "A value is trying to be set on a copy of a slice from a DataFrame\n",
      "\n",
      "See the caveats in the documentation: http://pandas.pydata.org/pandas-docs/stable/indexing.html#indexing-view-versus-copy\n",
      "  \n"
     ]
    }
   ],
   "source": [
    "data['stevedorenames'][6]=data['stevedorenames'][6]+','\n",
    "index=0\n",
    "stevedoren={}\n",
    "y=0\n",
    "for x in range(len(data['stevedorenames'][6])):\n",
    "    if data['stevedorenames'][6][x] ==',':\n",
    "        stevedoren[index]=data['stevedorenames'][6][y:x]\n",
    "        y=x+1\n",
    "        index+=1\n",
    "print(stevedoren)"
   ]
  },
  {
   "cell_type": "code",
   "execution_count": null,
   "metadata": {},
   "outputs": [],
   "source": [
    "for "
   ]
  },
  {
   "cell_type": "code",
   "execution_count": 16,
   "metadata": {},
   "outputs": [],
   "source": [
    "def prediction(data):\n",
    "    \"\"\"\n",
    "    Predict the transship of the four cargo types: ore, coal, oil, and petroleum \n",
    "    :data[0] 'vesseldwt': int\n",
    "    :data[1] 'vesseltype': string \n",
    "    :data[2] 'stevedorenames': string\n",
    "    :data[3] 'vesselid': int\n",
    "    :rtype: [int,int,int,int]\n",
    "    \"\"\"\n",
    "    if data[0]==1 or data[0]==4:\n",
    "        return [0,0,0,0]\n",
    "    \n",
    "    \n",
    "    "
   ]
  },
  {
   "cell_type": "code",
   "execution_count": null,
   "metadata": {},
   "outputs": [],
   "source": []
  }
 ],
 "metadata": {
  "kernelspec": {
   "display_name": "Python 3",
   "language": "python",
   "name": "python3"
  },
  "language_info": {
   "codemirror_mode": {
    "name": "ipython",
    "version": 3
   },
   "file_extension": ".py",
   "mimetype": "text/x-python",
   "name": "python",
   "nbconvert_exporter": "python",
   "pygments_lexer": "ipython3",
   "version": "3.7.3"
  }
 },
 "nbformat": 4,
 "nbformat_minor": 2
}
